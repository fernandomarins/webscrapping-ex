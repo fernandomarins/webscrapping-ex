{
 "cells": [
  {
   "cell_type": "markdown",
   "id": "7e5e88a4",
   "metadata": {},
   "source": [
    "### Problema de negócio\n",
    "\n",
    "- Fazer um webscrapping que retorna o nome, preço, disponibilidade e avaliações de livros de 4 categorias: humor, clássico, negócios e ficção científica\n",
    "\n",
    "Saída:\n",
    "\n",
    "1. A resposta para a pergunta\n",
    "    - O webscrapping contendo todas as informações pedidas\n",
    "\n",
    "2. Formato de entrega\n",
    "    - Uma tabela csv\n",
    "\n",
    "3. Local da entrega\n",
    "    - E-mail\n",
    "\n",
    "Processo:\n",
    "\n",
    "1. Realizar o webscrapping\n",
    "    - Realizar o webscrapping\n",
    "    \n",
    "2. Definir o formato da entrega\n",
    "    - Uma tabela csv\n",
    "    \n",
    "3. Decidir o local da entrega\n",
    "    - E-mail\n",
    "\n",
    "Entrada:\n",
    "\n",
    "1. Fonte de dados\n",
    "    - https://books.toscrape.com\n",
    "    \n",
    "2. Ferramentas\n",
    "    - Python 3.8.0\n",
    "    - Bibliotecas de webscrapping\n",
    "    - Jupyter Notebook"
   ]
  },
  {
   "cell_type": "code",
   "execution_count": null,
   "id": "db64fd0e",
   "metadata": {},
   "outputs": [],
   "source": []
  }
 ],
 "metadata": {
  "kernelspec": {
   "display_name": "Python 3 (ipykernel)",
   "language": "python",
   "name": "python3"
  },
  "language_info": {
   "codemirror_mode": {
    "name": "ipython",
    "version": 3
   },
   "file_extension": ".py",
   "mimetype": "text/x-python",
   "name": "python",
   "nbconvert_exporter": "python",
   "pygments_lexer": "ipython3",
   "version": "3.8.2"
  }
 },
 "nbformat": 4,
 "nbformat_minor": 5
}
