{
 "cells": [
  {
   "cell_type": "code",
   "execution_count": 2,
   "id": "967979d7",
   "metadata": {},
   "outputs": [],
   "source": [
    "import requests\n",
    "import pandas as pd\n",
    "from datetime import datetime\n",
    "from bs4 import BeautifulSoup\n",
    "import numpy as np"
   ]
  },
  {
   "cell_type": "code",
   "execution_count": 2,
   "id": "f226e721",
   "metadata": {},
   "outputs": [],
   "source": [
    "url = 'https://books.toscrape.com/catalogue/category/books/classics_6/index.html'\n",
    "\n",
    "# the header is added so the request is treated like a web browser\n",
    "headers = {'User-Agent': 'Mozilla/5.0 (Macintosh; Intel Mac OS X 10_11_5), AppleWebKit/537.36 (KHTML, like Gecko) Chrome/50.0.2661.102 Safari/537.36'}\n",
    "page = requests.get(url, headers=headers)\n",
    "soup = BeautifulSoup(page.text, 'html.parser')"
   ]
  },
  {
   "cell_type": "code",
   "execution_count": 22,
   "id": "6ba3fbff",
   "metadata": {},
   "outputs": [
    {
     "name": "stdout",
     "output_type": "stream",
     "text": [
      "../../../the-secret-garden_413/index.html\n",
      "../../../the-secret-garden_413/index.html\n",
      "../../../the-metamorphosis_409/index.html\n",
      "../../../the-metamorphosis_409/index.html\n",
      "../../../the-pilgrims-progress_353/index.html\n",
      "../../../the-pilgrims-progress_353/index.html\n",
      "../../../the-hound-of-the-baskervilles-sherlock-holmes-5_348/index.html\n",
      "../../../the-hound-of-the-baskervilles-sherlock-holmes-5_348/index.html\n",
      "../../../little-women-little-women-1_331/index.html\n",
      "../../../little-women-little-women-1_331/index.html\n",
      "../../../gone-with-the-wind_324/index.html\n",
      "../../../gone-with-the-wind_324/index.html\n",
      "../../../candide_316/index.html\n",
      "../../../candide_316/index.html\n",
      "../../../animal-farm_313/index.html\n",
      "../../../animal-farm_313/index.html\n",
      "../../../wuthering-heights_307/index.html\n",
      "../../../wuthering-heights_307/index.html\n",
      "../../../the-picture-of-dorian-gray_270/index.html\n",
      "../../../the-picture-of-dorian-gray_270/index.html\n",
      "../../../the-complete-stories-and-poems-the-works-of-edgar-allan-poe-cameo-edition_238/index.html\n",
      "../../../the-complete-stories-and-poems-the-works-of-edgar-allan-poe-cameo-edition_238/index.html\n",
      "../../../beowulf_126/index.html\n",
      "../../../beowulf_126/index.html\n",
      "../../../and-then-there-were-none_119/index.html\n",
      "../../../and-then-there-were-none_119/index.html\n",
      "../../../the-story-of-hong-gildong_84/index.html\n",
      "../../../the-story-of-hong-gildong_84/index.html\n",
      "../../../the-little-prince_72/index.html\n",
      "../../../the-little-prince_72/index.html\n",
      "../../../sense-and-sensibility_49/index.html\n",
      "../../../sense-and-sensibility_49/index.html\n",
      "../../../of-mice-and-men_37/index.html\n",
      "../../../of-mice-and-men_37/index.html\n",
      "../../../emma_17/index.html\n",
      "../../../emma_17/index.html\n",
      "../../../alice-in-wonderland-alices-adventures-in-wonderland-1_5/index.html\n",
      "../../../alice-in-wonderland-alices-adventures-in-wonderland-1_5/index.html\n"
     ]
    }
   ],
   "source": [
    "books = soup.find('ol', class_='row')\n",
    "books_list = books.find_all('a', href=True)\n",
    "for b in books_list:\n",
    "    print(b['href'])\n",
    "# book_name = [b.get_text() for b in books_list]\n",
    "\n",
    "#book_name\n",
    "\n",
    "#https://books.toscrape.com/catalogue/the-secret-garden_413/index.html\n",
    "#the-secret-garden_413/index.html"
   ]
  },
  {
   "cell_type": "markdown",
   "id": "dc1f06ee",
   "metadata": {},
   "source": [
    "### For a single book"
   ]
  },
  {
   "cell_type": "code",
   "execution_count": 99,
   "id": "84ebdc19",
   "metadata": {},
   "outputs": [],
   "source": [
    "url_book = 'https://books.toscrape.com/catalogue/the-metamorphosis_409/index.html'\n",
    "\n",
    "page = requests.get(url_book, headers=headers)\n",
    "soup = BeautifulSoup(page.text, 'html.parser')"
   ]
  },
  {
   "cell_type": "code",
   "execution_count": 100,
   "id": "4d31cc2c",
   "metadata": {},
   "outputs": [],
   "source": [
    "book_info = soup.find('div', class_='col-sm-6 product_main')\n",
    "\n",
    "book_name = book_info.find('h1').get_text()\n",
    "\n",
    "# dropping the first character because it's garbage\n",
    "book_price = book_info.find('p', class_='price_color').get_text()[1:]\n",
    "\n",
    "# I am using filter to get only value characters\n",
    "# Then splitting using \\n, getting thea second element, which is the stock\n",
    "# Then removing the white spaces before the stock\n",
    "book_stock = list(filter(None, book_info.find('p',\n",
    "                         class_='instock availability').get_text().split('\\n')))[1].strip()\n",
    "\n",
    "# here I am getting all the classes for p and then selecting the last element\n",
    "book_review = [value for element in book_info.find_all('p', class_=True) for value in element[\"class\"]][-1]"
   ]
  },
  {
   "cell_type": "markdown",
   "id": "7d2418e0",
   "metadata": {},
   "source": [
    "### For a single category"
   ]
  },
  {
   "cell_type": "code",
   "execution_count": 3,
   "id": "5efc4c29",
   "metadata": {},
   "outputs": [],
   "source": [
    "url = 'https://books.toscrape.com/catalogue/category/books/classics_6/index.html'\n",
    "\n",
    "# the header is added so the request is treated like a web browser\n",
    "headers = {'User-Agent': 'Mozilla/5.0 (Macintosh; Intel Mac OS X 10_11_5), AppleWebKit/537.36 (KHTML, like Gecko) Chrome/50.0.2661.102 Safari/537.36'}\n",
    "page = requests.get(url, headers=headers)\n",
    "soup = BeautifulSoup(page.text, 'html.parser')"
   ]
  },
  {
   "cell_type": "code",
   "execution_count": 26,
   "id": "36ec1f5e",
   "metadata": {},
   "outputs": [],
   "source": [
    "books = soup.find('ol', class_='row')\n",
    "links = books.find_all('div', class_='image_container')\n",
    "\n",
    "full_links = []\n",
    "\n",
    "for l in links:\n",
    "    # building the URLs, removing the first 9 characters of the link since it's gargabe\n",
    "    url = 'https://books.toscrape.com/catalogue/' + str(l.find('a', href=True)['href'][9:])\n",
    "    full_links.append(url)"
   ]
  },
  {
   "cell_type": "code",
   "execution_count": null,
   "id": "663318b9",
   "metadata": {},
   "outputs": [],
   "source": []
  }
 ],
 "metadata": {
  "kernelspec": {
   "display_name": "Python 3 (ipykernel)",
   "language": "python",
   "name": "python3"
  },
  "language_info": {
   "codemirror_mode": {
    "name": "ipython",
    "version": 3
   },
   "file_extension": ".py",
   "mimetype": "text/x-python",
   "name": "python",
   "nbconvert_exporter": "python",
   "pygments_lexer": "ipython3",
   "version": "3.8.2"
  }
 },
 "nbformat": 4,
 "nbformat_minor": 5
}
